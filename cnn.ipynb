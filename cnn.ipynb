{
 "cells": [
  {
   "cell_type": "code",
   "execution_count": 1,
   "id": "4939a3e1",
   "metadata": {},
   "outputs": [],
   "source": [
    "import tensorflow as tf \n",
    "from tensorflow.keras.preprocessing.image import ImageDataGenerator \n",
    "from keras import Model,layers"
   ]
  },
  {
   "cell_type": "code",
   "execution_count": 2,
   "id": "182d33d2",
   "metadata": {},
   "outputs": [],
   "source": [
    "import pandas as pd\n",
    "import numpy as np"
   ]
  },
  {
   "cell_type": "code",
   "execution_count": 3,
   "id": "85a2713f",
   "metadata": {},
   "outputs": [
    {
     "data": {
      "text/plain": [
       "'2.7.0'"
      ]
     },
     "execution_count": 3,
     "metadata": {},
     "output_type": "execute_result"
    }
   ],
   "source": [
    "\n",
    "tf.keras.__version__"
   ]
  },
  {
   "cell_type": "code",
   "execution_count": 4,
   "id": "f619ee6a",
   "metadata": {},
   "outputs": [],
   "source": [
    "train_df = pd.read_csv('train.csv')\n",
    "test_df = pd.read_csv('test.csv')"
   ]
  },
  {
   "cell_type": "code",
   "execution_count": 5,
   "id": "2231e509",
   "metadata": {},
   "outputs": [],
   "source": [
    "from tensorflow.keras.preprocessing.image import ImageDataGenerator"
   ]
  },
  {
   "cell_type": "code",
   "execution_count": 6,
   "id": "b25cd2b0",
   "metadata": {},
   "outputs": [],
   "source": [
    "train_gen = ImageDataGenerator(rescale = 1./255.,rotation_range = 40, width_shift_range = 0.2, height_shift_range = 0.2, shear_range = 0.2, zoom_range = 0.2, horizontal_flip = True)\n",
    "test_gen = ImageDataGenerator( rescale = 1.0/255. )"
   ]
  },
  {
   "cell_type": "code",
   "execution_count": 7,
   "id": "e3da7b9f",
   "metadata": {},
   "outputs": [
    {
     "name": "stdout",
     "output_type": "stream",
     "text": [
      "Found 14630 validated image filenames belonging to 3 classes.\n",
      "Found 1500 validated image filenames belonging to 3 classes.\n"
     ]
    }
   ],
   "source": [
    "train_set = train_gen.flow_from_dataframe(train_df,x_col='loc',y_col='label',batch_size=20,target_size=(224,224))\n",
    "test_set = train_gen.flow_from_dataframe(test_df,x_col='loc',y_col='label',batch_size=20,target_size=(224,224))"
   ]
  },
  {
   "cell_type": "code",
   "execution_count": 8,
   "id": "4a0ff868",
   "metadata": {},
   "outputs": [],
   "source": [
    "from tensorflow.keras.applications.vgg16 import VGG16\n",
    "\n",
    "base_model = VGG16(input_shape = (224, 224, 3),\n",
    "include_top = False,\n",
    "weights = 'imagenet')\n",
    "\n",
    "for layer in base_model.layers:\n",
    "    layer.trainable = False"
   ]
  },
  {
   "cell_type": "code",
   "execution_count": 9,
   "id": "d49669f0",
   "metadata": {},
   "outputs": [
    {
     "name": "stderr",
     "output_type": "stream",
     "text": [
      "E:\\python\\lib\\site-packages\\keras\\optimizer_v2\\rmsprop.py:130: UserWarning: The `lr` argument is deprecated, use `learning_rate` instead.\n",
      "  super(RMSprop, self).__init__(name, **kwargs)\n"
     ]
    }
   ],
   "source": [
    "x = layers.Flatten()(base_model.output)\n",
    "x = layers.Dense(512, activation='relu')(x)\n",
    "x = layers.Dropout(0.5)(x)\n",
    "x = layers.Dense(3, activation='softmax')(x)\n",
    "\n",
    "model = tf.keras.models.Model(base_model.input, x)\n",
    "\n",
    "model.compile(optimizer = tf.keras.optimizers.RMSprop(lr=0.0001), loss = 'binary_crossentropy',metrics = ['acc'])"
   ]
  },
  {
   "cell_type": "code",
   "execution_count": 10,
   "id": "2eb203a9",
   "metadata": {},
   "outputs": [
    {
     "name": "stdout",
     "output_type": "stream",
     "text": [
      "Epoch 1/20\n",
      "50/50 [==============================] - 67s 1s/step - loss: 0.4694 - acc: 0.7020 - val_loss: 0.2668 - val_acc: 0.8440\n",
      "Epoch 2/20\n",
      "50/50 [==============================] - 59s 1s/step - loss: 0.2697 - acc: 0.8450 - val_loss: 0.1761 - val_acc: 0.9267\n",
      "Epoch 3/20\n",
      "50/50 [==============================] - 59s 1s/step - loss: 0.2425 - acc: 0.8630 - val_loss: 0.1767 - val_acc: 0.9040\n",
      "Epoch 4/20\n",
      "50/50 [==============================] - 58s 1s/step - loss: 0.1821 - acc: 0.8960 - val_loss: 0.1451 - val_acc: 0.9227\n",
      "Epoch 5/20\n",
      "50/50 [==============================] - 57s 1s/step - loss: 0.1828 - acc: 0.9020 - val_loss: 0.1433 - val_acc: 0.9287\n",
      "Epoch 6/20\n",
      "50/50 [==============================] - 57s 1s/step - loss: 0.1602 - acc: 0.9070 - val_loss: 0.1065 - val_acc: 0.9513\n",
      "Epoch 7/20\n",
      "50/50 [==============================] - 57s 1s/step - loss: 0.1451 - acc: 0.9260 - val_loss: 0.1308 - val_acc: 0.9307\n",
      "Epoch 8/20\n",
      "50/50 [==============================] - 59s 1s/step - loss: 0.1342 - acc: 0.9220 - val_loss: 0.1076 - val_acc: 0.9433\n",
      "Epoch 9/20\n",
      "50/50 [==============================] - 57s 1s/step - loss: 0.1204 - acc: 0.9370 - val_loss: 0.1066 - val_acc: 0.9500\n",
      "Epoch 10/20\n",
      "50/50 [==============================] - 62s 1s/step - loss: 0.1130 - acc: 0.9444 - val_loss: 0.1062 - val_acc: 0.9420\n",
      "Epoch 11/20\n",
      "50/50 [==============================] - 59s 1s/step - loss: 0.1250 - acc: 0.9380 - val_loss: 0.1008 - val_acc: 0.9427\n",
      "Epoch 12/20\n",
      "50/50 [==============================] - 58s 1s/step - loss: 0.1065 - acc: 0.9410 - val_loss: 0.1001 - val_acc: 0.9487\n",
      "Epoch 13/20\n",
      "50/50 [==============================] - 63s 1s/step - loss: 0.1269 - acc: 0.9280 - val_loss: 0.0892 - val_acc: 0.9507\n",
      "Epoch 14/20\n",
      "50/50 [==============================] - 62s 1s/step - loss: 0.1068 - acc: 0.9470 - val_loss: 0.0905 - val_acc: 0.9553\n",
      "Epoch 15/20\n",
      "50/50 [==============================] - 60s 1s/step - loss: 0.1042 - acc: 0.9460 - val_loss: 0.0964 - val_acc: 0.9460\n",
      "Epoch 16/20\n",
      "50/50 [==============================] - 94s 2s/step - loss: 0.0974 - acc: 0.9520 - val_loss: 0.0978 - val_acc: 0.9453\n",
      "Epoch 17/20\n",
      "50/50 [==============================] - 80s 2s/step - loss: 0.0997 - acc: 0.9540 - val_loss: 0.0817 - val_acc: 0.9640\n",
      "Epoch 18/20\n",
      "50/50 [==============================] - 61s 1s/step - loss: 0.1217 - acc: 0.9290 - val_loss: 0.0854 - val_acc: 0.9513\n",
      "Epoch 19/20\n",
      "50/50 [==============================] - 64s 1s/step - loss: 0.0919 - acc: 0.9530 - val_loss: 0.0958 - val_acc: 0.9520\n",
      "Epoch 20/20\n",
      "50/50 [==============================] - 59s 1s/step - loss: 0.0860 - acc: 0.9490 - val_loss: 0.0768 - val_acc: 0.9600\n"
     ]
    }
   ],
   "source": [
    "vgghist = model.fit(train_set, validation_data = test_set, steps_per_epoch = 50, epochs = 20)"
   ]
  },
  {
   "cell_type": "code",
   "execution_count": null,
   "id": "7f9448fc",
   "metadata": {},
   "outputs": [],
   "source": []
  }
 ],
 "metadata": {
  "kernelspec": {
   "display_name": "Python 3 (ipykernel)",
   "language": "python",
   "name": "python3"
  },
  "language_info": {
   "codemirror_mode": {
    "name": "ipython",
    "version": 3
   },
   "file_extension": ".py",
   "mimetype": "text/x-python",
   "name": "python",
   "nbconvert_exporter": "python",
   "pygments_lexer": "ipython3",
   "version": "3.9.8"
  }
 },
 "nbformat": 4,
 "nbformat_minor": 5
}
